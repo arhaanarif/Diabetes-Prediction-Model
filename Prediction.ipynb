{
 "cells": [
  {
   "cell_type": "markdown",
   "id": "59194006-190e-4e4c-b4ff-ae0b3ebd5b57",
   "metadata": {},
   "source": [
    "## Diabetes Prediction Model"
   ]
  },
  {
   "cell_type": "markdown",
   "id": "10aa59f9-9a3d-4312-b7dd-cae3a12f6f3c",
   "metadata": {},
   "source": [
    "#### Importin the Dependencies"
   ]
  },
  {
   "cell_type": "code",
   "execution_count": null,
   "id": "ecb9c635",
   "metadata": {},
   "outputs": [],
   "source": [
    "import pandas as pd\n",
    "import numpy as np\n",
    "import seaborn as sns\n",
    "improt matplotlib.pyplot as plt\n",
    "from sklearn.preprocessing import StandardScalar"
   ]
  }
 ],
 "metadata": {
  "kernelspec": {
   "display_name": "Python 3 (ipykernel)",
   "language": "python",
   "name": "python3"
  },
  "language_info": {
   "codemirror_mode": {
    "name": "ipython",
    "version": 3
   },
   "file_extension": ".py",
   "mimetype": "text/x-python",
   "name": "python",
   "nbconvert_exporter": "python",
   "pygments_lexer": "ipython3",
   "version": "3.12.1"
  }
 },
 "nbformat": 4,
 "nbformat_minor": 5
}
